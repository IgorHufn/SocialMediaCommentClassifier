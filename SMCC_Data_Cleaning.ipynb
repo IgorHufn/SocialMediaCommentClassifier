{
 "cells": [
  {
   "cell_type": "markdown",
   "id": "21bd9b28",
   "metadata": {},
   "source": [
    "# GATHERING AND CLEANING DATA\n",
    "\n",
    "Data acquisition and pre-processing of suitable dataset containing social media comments or posts. \n",
    "Pre-processing the data by cleaning, normalizing, and formatting it for further analysis."
   ]
  },
  {
   "cell_type": "code",
   "execution_count": 2,
   "id": "09063c68",
   "metadata": {},
   "outputs": [],
   "source": [
    "import pandas as pd"
   ]
  },
  {
   "cell_type": "code",
   "execution_count": null,
   "id": "7f78647c",
   "metadata": {},
   "outputs": [],
   "source": [
    "racist_data = pd.read_csv('/Users/igorhufnagel/Desktop/Ironhack/LABS/Final Project/Datasets/racist_data.csv')"
   ]
  },
  {
   "cell_type": "code",
   "execution_count": null,
   "id": "f6350f1f",
   "metadata": {},
   "outputs": [],
   "source": [
    "sexually_data = pd.read_csv('/Users/igorhufnagel/Desktop/Ironhack/LABS/Final Project/Datasets/sexually_data.csv', delimiter=';')"
   ]
  },
  {
   "cell_type": "code",
   "execution_count": null,
   "id": "3cae7640",
   "metadata": {},
   "outputs": [],
   "source": [
    "sexually_data"
   ]
  },
  {
   "cell_type": "code",
   "execution_count": null,
   "id": "017c8b67",
   "metadata": {},
   "outputs": [],
   "source": [
    "hate_data = pd.read_csv('/Users/igorhufnagel/Desktop/Ironhack/LABS/Final Project/Datasets/hate_data.csv')"
   ]
  },
  {
   "cell_type": "code",
   "execution_count": null,
   "id": "5864d150",
   "metadata": {},
   "outputs": [],
   "source": [
    "suicide_data = pd.read_csv('/Users/igorhufnagel/Desktop/Ironhack/LABS/Final Project/Datasets/suicide_data.csv')"
   ]
  },
  {
   "cell_type": "code",
   "execution_count": null,
   "id": "d2d4b929",
   "metadata": {},
   "outputs": [],
   "source": [
    "racist_data"
   ]
  },
  {
   "cell_type": "code",
   "execution_count": null,
   "id": "a33d94f0",
   "metadata": {},
   "outputs": [],
   "source": [
    "suicide_data.value_counts('class')"
   ]
  },
  {
   "cell_type": "code",
   "execution_count": null,
   "id": "c1d2a077",
   "metadata": {},
   "outputs": [],
   "source": [
    "hate_data.value_counts('Label')"
   ]
  },
  {
   "cell_type": "code",
   "execution_count": null,
   "id": "2bd63ed4",
   "metadata": {},
   "outputs": [],
   "source": [
    "bad_words = pd.read_csv('/Users/igorhufnagel/Desktop/Ironhack/LABS/Final Project/Datasets/bad_words.csv')"
   ]
  },
  {
   "cell_type": "code",
   "execution_count": null,
   "id": "3225f47c",
   "metadata": {},
   "outputs": [],
   "source": [
    "bad_words"
   ]
  },
  {
   "cell_type": "code",
   "execution_count": null,
   "id": "99777782",
   "metadata": {},
   "outputs": [],
   "source": [
    "sexual_words = pd.read_csv('/Users/igorhufnagel/Desktop/Ironhack/LABS/Final Project/Datasets/sexual_words.csv')"
   ]
  },
  {
   "cell_type": "code",
   "execution_count": null,
   "id": "d6888833",
   "metadata": {},
   "outputs": [],
   "source": [
    "sexual_words"
   ]
  },
  {
   "cell_type": "markdown",
   "id": "b9e3cd1e",
   "metadata": {},
   "source": [
    "# RACIST DATA CLEANING"
   ]
  },
  {
   "cell_type": "code",
   "execution_count": null,
   "id": "21baae62",
   "metadata": {},
   "outputs": [],
   "source": [
    "racist_data"
   ]
  },
  {
   "cell_type": "code",
   "execution_count": null,
   "id": "990e4972",
   "metadata": {},
   "outputs": [],
   "source": [
    "racist_data['Label'].fillna('Racist', inplace=True)"
   ]
  },
  {
   "cell_type": "code",
   "execution_count": null,
   "id": "e46a4fb8",
   "metadata": {},
   "outputs": [],
   "source": [
    "racist_data.head()"
   ]
  },
  {
   "cell_type": "code",
   "execution_count": null,
   "id": "b20e5cc0",
   "metadata": {},
   "outputs": [],
   "source": [
    "racist_data"
   ]
  },
  {
   "cell_type": "code",
   "execution_count": null,
   "id": "8a0480e8",
   "metadata": {},
   "outputs": [],
   "source": [
    "import nltk\n",
    "from nltk.corpus import stopwords #stopwords library\n",
    "from nltk.stem import WordNetLemmatizer #lemmatizing library\n",
    "from nltk.tokenize import word_tokenize #tokenizing library"
   ]
  },
  {
   "cell_type": "markdown",
   "id": "01acd450",
   "metadata": {},
   "source": [
    "# CLEAN UP"
   ]
  },
  {
   "cell_type": "code",
   "execution_count": null,
   "id": "ef8d730b",
   "metadata": {},
   "outputs": [],
   "source": [
    "import re\n",
    "\n",
    "def clean_up(text):\n",
    "    \n",
    "    # removing URLs\n",
    "    text = re.sub(r\"http\\S+|www\\S+|https\\S+\", \"\", text)\n",
    "\n",
    "    # removing special characters\n",
    "    text = re.sub(r\"[^a-zA-Z ]+\", \" \", text)\n",
    "\n",
    "    # converting to lowercase\n",
    "    text = text.lower()\n",
    "\n",
    "    # Remove extra whitespaces\n",
    "    text = re.sub(r\"\\s+\", \" \", text)\n",
    "\n",
    "    return text.strip()"
   ]
  },
  {
   "cell_type": "code",
   "execution_count": null,
   "id": "a48bb946",
   "metadata": {},
   "outputs": [],
   "source": [
    "racist_data['Comment'] = racist_data['Comment'].apply(clean_up)"
   ]
  },
  {
   "cell_type": "code",
   "execution_count": null,
   "id": "f07737a2",
   "metadata": {},
   "outputs": [],
   "source": [
    "racist_data"
   ]
  },
  {
   "cell_type": "markdown",
   "id": "6c0e7d1a",
   "metadata": {},
   "source": [
    "# TOKENIZATION"
   ]
  },
  {
   "cell_type": "code",
   "execution_count": null,
   "id": "857f24d2",
   "metadata": {},
   "outputs": [],
   "source": [
    "from nltk.tokenize import word_tokenize\n",
    "\n",
    "def tokenize(text):\n",
    "    return word_tokenize(text)\n",
    "\n",
    "racist_data['Comment'] = racist_data['Comment'].apply(tokenize)"
   ]
  },
  {
   "cell_type": "code",
   "execution_count": null,
   "id": "69166fc2",
   "metadata": {
    "scrolled": true
   },
   "outputs": [],
   "source": [
    "racist_data"
   ]
  },
  {
   "cell_type": "markdown",
   "id": "b4772a8f",
   "metadata": {},
   "source": [
    "# STOP WORDS REMOVAL"
   ]
  },
  {
   "cell_type": "code",
   "execution_count": null,
   "id": "5ddcfdc9",
   "metadata": {},
   "outputs": [],
   "source": [
    "from nltk.corpus import stopwords\n",
    "\n",
    "def remove_stopwords(words):\n",
    "    stop_words = set(stopwords.words('english'))\n",
    "    filtered_words = [word for word in words if word not in stop_words]\n",
    "    return filtered_words\n",
    "\n",
    "racist_data['Comment'] = racist_data['Comment'].apply(remove_stopwords)"
   ]
  },
  {
   "cell_type": "code",
   "execution_count": null,
   "id": "6e214d4a",
   "metadata": {},
   "outputs": [],
   "source": [
    "racist_data"
   ]
  },
  {
   "cell_type": "markdown",
   "id": "6bf39cbc",
   "metadata": {},
   "source": [
    "# STEMMING AND LEMMATIZATION"
   ]
  },
  {
   "cell_type": "code",
   "execution_count": null,
   "id": "9b8e1f2d",
   "metadata": {},
   "outputs": [],
   "source": [
    "from nltk.stem import PorterStemmer, WordNetLemmatizer\n",
    "\n",
    "def stem_and_lemmatize(words):\n",
    "    stemmer = PorterStemmer()\n",
    "    lemmatizer = WordNetLemmatizer()\n",
    "    stemmed_and_lemmatized = []\n",
    "\n",
    "    for word in words:\n",
    "        stemmed_word = stemmer.stem(word)\n",
    "        lemmatized_word = lemmatizer.lemmatize(stemmed_word)\n",
    "        stemmed_and_lemmatized.append((lemmatized_word))\n",
    "\n",
    "    return stemmed_and_lemmatized\n",
    "\n",
    "racist_data['Comment'] = racist_data['Comment'].apply(stem_and_lemmatize)"
   ]
  },
  {
   "cell_type": "code",
   "execution_count": null,
   "id": "456d7c40",
   "metadata": {},
   "outputs": [],
   "source": [
    "racist_data"
   ]
  },
  {
   "cell_type": "code",
   "execution_count": null,
   "id": "4ea95197",
   "metadata": {},
   "outputs": [],
   "source": [
    "racist_data.to_csv('/Users/igorhufnagel/Desktop/Ironhack/LABS/Final Project/Datasets/racist_data_cleaned.csv', index=False)"
   ]
  },
  {
   "cell_type": "code",
   "execution_count": null,
   "id": "382c3d95",
   "metadata": {},
   "outputs": [],
   "source": [
    "racist_data_cleaned = pd.read_csv('/Users/igorhufnagel/Desktop/Ironhack/LABS/Final Project/Datasets_Cleaned/racist_data_cleaned.csv')"
   ]
  },
  {
   "cell_type": "code",
   "execution_count": null,
   "id": "ab7a30b3",
   "metadata": {},
   "outputs": [],
   "source": [
    "racist_data_cleaned"
   ]
  },
  {
   "cell_type": "markdown",
   "id": "8ae97f67",
   "metadata": {},
   "source": [
    "# SEXUALLY EXPLICIT DATA CLEANING"
   ]
  },
  {
   "cell_type": "code",
   "execution_count": null,
   "id": "b4824378",
   "metadata": {},
   "outputs": [],
   "source": [
    "sexually_data"
   ]
  },
  {
   "cell_type": "code",
   "execution_count": null,
   "id": "d621d856",
   "metadata": {},
   "outputs": [],
   "source": [
    "sexually_data.rename(columns={'I would never have guessed you had tits that big under your scrubs': 'Comment'}, inplace=True)"
   ]
  },
  {
   "cell_type": "code",
   "execution_count": null,
   "id": "f3f97210",
   "metadata": {},
   "outputs": [],
   "source": [
    "sexually_data"
   ]
  },
  {
   "cell_type": "code",
   "execution_count": null,
   "id": "57532001",
   "metadata": {},
   "outputs": [],
   "source": [
    "columns_to_drop = ['Label', 'column2', 'column3']\n",
    "racist_data.drop(columns_to_drop, axis=1, inplace=True)"
   ]
  },
  {
   "cell_type": "code",
   "execution_count": null,
   "id": "94b3c2f2",
   "metadata": {},
   "outputs": [],
   "source": [
    "sexually_data"
   ]
  },
  {
   "cell_type": "code",
   "execution_count": null,
   "id": "bb640389",
   "metadata": {},
   "outputs": [],
   "source": [
    "sexually_data['Label'] = 'Sexual'"
   ]
  },
  {
   "cell_type": "code",
   "execution_count": null,
   "id": "fefdab2a",
   "metadata": {},
   "outputs": [],
   "source": [
    "sexually_data.value_counts('Label')"
   ]
  },
  {
   "cell_type": "code",
   "execution_count": null,
   "id": "ae928d67",
   "metadata": {},
   "outputs": [],
   "source": [
    "columns_to_drop = ['Unnamed: 2', 'Unnamed: 3']\n",
    "sexually_data.drop(columns_to_drop, axis=1, inplace=True)"
   ]
  },
  {
   "cell_type": "code",
   "execution_count": null,
   "id": "cee3f3fd",
   "metadata": {},
   "outputs": [],
   "source": [
    "sexually_data"
   ]
  },
  {
   "cell_type": "markdown",
   "id": "a5a71639",
   "metadata": {},
   "source": [
    "# CLEAN UP"
   ]
  },
  {
   "cell_type": "code",
   "execution_count": null,
   "id": "247120fe",
   "metadata": {},
   "outputs": [],
   "source": [
    "import re\n",
    "\n",
    "def clean_up(text):\n",
    "    # Check if the input is a string\n",
    "    if isinstance(text, str):\n",
    "        # removing URLs\n",
    "        text = re.sub(r\"http\\S+|www\\S+|https\\S+\", \"\", text)\n",
    "\n",
    "        # removing special characters\n",
    "        text = re.sub(r\"[^a-zA-Z ]+\", \" \", text)\n",
    "\n",
    "        # converting to lowercase\n",
    "        text = text.lower()\n",
    "\n",
    "        # Remove extra whitespaces\n",
    "        text = re.sub(r\"\\s+\", \" \", text)\n",
    "\n",
    "        return text.strip()"
   ]
  },
  {
   "cell_type": "code",
   "execution_count": null,
   "id": "5a8f5c05",
   "metadata": {},
   "outputs": [],
   "source": [
    "sexually_data['Comment'] = sexually_data['Comment'].apply(clean_up)"
   ]
  },
  {
   "cell_type": "code",
   "execution_count": null,
   "id": "98e28ed0",
   "metadata": {},
   "outputs": [],
   "source": [
    "sexually_data"
   ]
  },
  {
   "cell_type": "markdown",
   "id": "bfa16296",
   "metadata": {},
   "source": [
    "# TOKENIZATION"
   ]
  },
  {
   "cell_type": "code",
   "execution_count": null,
   "id": "a7aa2dae",
   "metadata": {},
   "outputs": [],
   "source": [
    "from nltk.tokenize import word_tokenize\n",
    "\n",
    "def tokenize(text):\n",
    "    # Check if the input is a string\n",
    "    if isinstance(text, str):\n",
    "        return word_tokenize(text)\n",
    "    \n",
    "    # Return an empty list if the input is not a string\n",
    "    return []\n",
    "\n",
    "# Apply the tokenize() function to the 'Comment' column\n",
    "sexually_data['Comment'] = sexually_data['Comment'].apply(tokenize)"
   ]
  },
  {
   "cell_type": "code",
   "execution_count": null,
   "id": "9fd18ea2",
   "metadata": {},
   "outputs": [],
   "source": [
    "sexually_data"
   ]
  },
  {
   "cell_type": "markdown",
   "id": "1ea0a666",
   "metadata": {},
   "source": [
    "# STOP WORDS REMOVAL"
   ]
  },
  {
   "cell_type": "code",
   "execution_count": null,
   "id": "f68cd08b",
   "metadata": {},
   "outputs": [],
   "source": [
    "sexually_data['Comment'] = sexually_data['Comment'].apply(remove_stopwords)"
   ]
  },
  {
   "cell_type": "code",
   "execution_count": null,
   "id": "5e246a49",
   "metadata": {},
   "outputs": [],
   "source": [
    "sexually_data"
   ]
  },
  {
   "cell_type": "markdown",
   "id": "67ce035e",
   "metadata": {},
   "source": [
    "# STEMMING AND LEMMATIZATION"
   ]
  },
  {
   "cell_type": "code",
   "execution_count": null,
   "id": "04ce2380",
   "metadata": {},
   "outputs": [],
   "source": [
    "sexually_data['Comment'] = sexually_data['Comment'].apply(stem_and_lemmatize)"
   ]
  },
  {
   "cell_type": "code",
   "execution_count": null,
   "id": "3121e8d5",
   "metadata": {},
   "outputs": [],
   "source": [
    "sexually_data"
   ]
  },
  {
   "cell_type": "code",
   "execution_count": null,
   "id": "0157bcac",
   "metadata": {},
   "outputs": [],
   "source": [
    "sexually_data.to_csv('/Users/igorhufnagel/Desktop/Ironhack/LABS/Final Project/Datasets/sexually_data_cleaned.csv', index=False)"
   ]
  },
  {
   "cell_type": "code",
   "execution_count": null,
   "id": "c46454a2",
   "metadata": {},
   "outputs": [],
   "source": [
    "sexually_data_cleaned = pd.read_csv('/Users/igorhufnagel/Desktop/Ironhack/LABS/Final Project/Datasets_Cleaned/sexually_data_cleaned.csv')"
   ]
  },
  {
   "cell_type": "code",
   "execution_count": null,
   "id": "888e6ca3",
   "metadata": {},
   "outputs": [],
   "source": [
    "sexually_data_cleaned"
   ]
  },
  {
   "cell_type": "markdown",
   "id": "f83c390b",
   "metadata": {},
   "source": [
    "# SUICIDE DATA CLEANING"
   ]
  },
  {
   "cell_type": "code",
   "execution_count": null,
   "id": "60045cf2",
   "metadata": {},
   "outputs": [],
   "source": [
    "suicide_data"
   ]
  },
  {
   "cell_type": "code",
   "execution_count": null,
   "id": "7d621209",
   "metadata": {},
   "outputs": [],
   "source": [
    "suicide_data.rename(columns={'text': 'Comment'}, inplace=True)\n",
    "suicide_data.rename(columns={'class': 'Label'}, inplace=True)"
   ]
  },
  {
   "cell_type": "code",
   "execution_count": null,
   "id": "ca126b0a",
   "metadata": {},
   "outputs": [],
   "source": [
    "suicide_data"
   ]
  },
  {
   "cell_type": "code",
   "execution_count": null,
   "id": "cf3291b1",
   "metadata": {},
   "outputs": [],
   "source": [
    "suicide_data.drop('Unnamed: 0', axis=1, inplace=True)"
   ]
  },
  {
   "cell_type": "code",
   "execution_count": null,
   "id": "ebf4416c",
   "metadata": {},
   "outputs": [],
   "source": [
    "suicide_data"
   ]
  },
  {
   "cell_type": "markdown",
   "id": "080d0f67",
   "metadata": {},
   "source": [
    "# CLEAN UP"
   ]
  },
  {
   "cell_type": "code",
   "execution_count": null,
   "id": "f9a1daff",
   "metadata": {},
   "outputs": [],
   "source": [
    "suicide_data['Comment'] = suicide_data['Comment'].apply(clean_up)"
   ]
  },
  {
   "cell_type": "code",
   "execution_count": null,
   "id": "a8065ad1",
   "metadata": {},
   "outputs": [],
   "source": [
    "suicide_data"
   ]
  },
  {
   "cell_type": "markdown",
   "id": "9268dda6",
   "metadata": {},
   "source": [
    "# TOKENIZATION"
   ]
  },
  {
   "cell_type": "code",
   "execution_count": null,
   "id": "bd0e7de5",
   "metadata": {},
   "outputs": [],
   "source": [
    "suicide_data['Comment'] = suicide_data['Comment'].apply(tokenize)"
   ]
  },
  {
   "cell_type": "code",
   "execution_count": null,
   "id": "4fd2ce4b",
   "metadata": {},
   "outputs": [],
   "source": [
    "suicide_data"
   ]
  },
  {
   "cell_type": "markdown",
   "id": "010bb503",
   "metadata": {},
   "source": [
    "# STOP WORDS REMOVAL"
   ]
  },
  {
   "cell_type": "code",
   "execution_count": null,
   "id": "6f19a7d5",
   "metadata": {},
   "outputs": [],
   "source": [
    "suicide_data['Comment'] = suicide_data['Comment'].apply(remove_stopwords)"
   ]
  },
  {
   "cell_type": "code",
   "execution_count": null,
   "id": "273691c2",
   "metadata": {},
   "outputs": [],
   "source": [
    "suicide_data"
   ]
  },
  {
   "cell_type": "markdown",
   "id": "019a283c",
   "metadata": {},
   "source": [
    "# STEMMING AND LEMMATIZATION"
   ]
  },
  {
   "cell_type": "code",
   "execution_count": null,
   "id": "0fdbb4ac",
   "metadata": {},
   "outputs": [],
   "source": [
    "suicide_data['Comment'] = suicide_data['Comment'].apply(stem_and_lemmatize)"
   ]
  },
  {
   "cell_type": "code",
   "execution_count": null,
   "id": "3aac3c27",
   "metadata": {},
   "outputs": [],
   "source": [
    "suicide_data"
   ]
  },
  {
   "cell_type": "code",
   "execution_count": null,
   "id": "5c237f32",
   "metadata": {},
   "outputs": [],
   "source": [
    "suicide_data.to_csv('/Users/igorhufnagel/Desktop/Ironhack/LABS/Final Project/Datasets/suicide_data_cleaned.csv', index=False)"
   ]
  },
  {
   "cell_type": "code",
   "execution_count": null,
   "id": "85eee785",
   "metadata": {},
   "outputs": [],
   "source": [
    "suicide_data_cleaned = pd.read_csv('/Users/igorhufnagel/Desktop/Ironhack/LABS/Final Project/Datasets_Cleaned/suicide_data_cleaned.csv')"
   ]
  },
  {
   "cell_type": "code",
   "execution_count": null,
   "id": "c1c0b655",
   "metadata": {},
   "outputs": [],
   "source": [
    "suicide_data_cleaned"
   ]
  },
  {
   "cell_type": "markdown",
   "id": "779e378d",
   "metadata": {},
   "source": [
    "# VIOLATION WORDS DATA CLEANING"
   ]
  },
  {
   "cell_type": "code",
   "execution_count": null,
   "id": "a10b4825",
   "metadata": {},
   "outputs": [],
   "source": [
    "hate_data"
   ]
  },
  {
   "cell_type": "code",
   "execution_count": null,
   "id": "73c53092",
   "metadata": {},
   "outputs": [],
   "source": [
    "columns_to_drop = ['canonical_form_2', 'canonical_form_3', 'category_3', 'severity_rating', 'severity_description']\n",
    "hate_data.drop(columns_to_drop, axis=1, inplace=True)"
   ]
  },
  {
   "cell_type": "code",
   "execution_count": null,
   "id": "10cd213c",
   "metadata": {},
   "outputs": [],
   "source": [
    "hate_data.value_counts('category_1')"
   ]
  },
  {
   "cell_type": "code",
   "execution_count": null,
   "id": "e5c17b2b",
   "metadata": {},
   "outputs": [],
   "source": [
    "hate_data.value_counts('category_2')"
   ]
  },
  {
   "cell_type": "code",
   "execution_count": null,
   "id": "3e16c6db",
   "metadata": {},
   "outputs": [],
   "source": [
    "hate_data.drop('category_2', axis=1, inplace=True)"
   ]
  },
  {
   "cell_type": "code",
   "execution_count": null,
   "id": "e413ca49",
   "metadata": {},
   "outputs": [],
   "source": [
    "hate_data.drop('canonical_form_1', axis=1, inplace=True)"
   ]
  },
  {
   "cell_type": "code",
   "execution_count": null,
   "id": "09b3cc44",
   "metadata": {},
   "outputs": [],
   "source": [
    "hate_data.rename(columns={'text': 'Comment'}, inplace=True)\n",
    "hate_data.rename(columns={'category_1': 'Label'}, inplace=True)"
   ]
  },
  {
   "cell_type": "code",
   "execution_count": null,
   "id": "8f5be8b3",
   "metadata": {},
   "outputs": [],
   "source": [
    "hate_data"
   ]
  },
  {
   "cell_type": "code",
   "execution_count": null,
   "id": "496d7331",
   "metadata": {},
   "outputs": [],
   "source": [
    "hate_data['Comment'] = hate_data['Comment'].apply(tokenize)"
   ]
  },
  {
   "cell_type": "code",
   "execution_count": null,
   "id": "964e96cc",
   "metadata": {},
   "outputs": [],
   "source": [
    "hate_data"
   ]
  },
  {
   "cell_type": "code",
   "execution_count": null,
   "id": "5700ef9a",
   "metadata": {},
   "outputs": [],
   "source": [
    "hate_data['Comment'] = hate_data['Comment'].apply(remove_stopwords)"
   ]
  },
  {
   "cell_type": "code",
   "execution_count": null,
   "id": "268a2fb1",
   "metadata": {},
   "outputs": [],
   "source": [
    "hate_data"
   ]
  },
  {
   "cell_type": "code",
   "execution_count": null,
   "id": "9db5c781",
   "metadata": {},
   "outputs": [],
   "source": [
    "hate_data.to_csv('/Users/igorhufnagel/Desktop/Ironhack/LABS/Final Project/Datasets/badwords_data_cleaned.csv', index=False)"
   ]
  },
  {
   "cell_type": "code",
   "execution_count": null,
   "id": "8c333837",
   "metadata": {},
   "outputs": [],
   "source": [
    "badwords_data_cleaned = pd.read_csv('/Users/igorhufnagel/Desktop/Ironhack/LABS/Final Project/Datasets_Cleaned/badwords_data_cleaned.csv')"
   ]
  },
  {
   "cell_type": "code",
   "execution_count": null,
   "id": "e86bc217",
   "metadata": {},
   "outputs": [],
   "source": [
    "badwords_data_cleaned"
   ]
  },
  {
   "cell_type": "markdown",
   "id": "5a6de86c",
   "metadata": {},
   "source": [
    "# GENERAL DATA CLEANING"
   ]
  },
  {
   "cell_type": "code",
   "execution_count": null,
   "id": "196d49a9",
   "metadata": {},
   "outputs": [],
   "source": [
    "general_data = pd.read_csv('/Users/igorhufnagel/Desktop/Ironhack/LABS/Final Project/Datasets/general_data.csv', encoding='latin-1')"
   ]
  },
  {
   "cell_type": "code",
   "execution_count": null,
   "id": "cb8d6b7f",
   "metadata": {},
   "outputs": [],
   "source": [
    "general_data"
   ]
  },
  {
   "cell_type": "code",
   "execution_count": null,
   "id": "3cff6e99",
   "metadata": {},
   "outputs": [],
   "source": [
    "columns_to_drop = ['0', '1467810369', 'Mon Apr 06 22:19:45 PDT 2009', 'NO_QUERY', '_TheSpecialOne_']\n",
    "general_data.drop(columns_to_drop, axis=1, inplace=True)"
   ]
  },
  {
   "cell_type": "code",
   "execution_count": null,
   "id": "876c49e7",
   "metadata": {},
   "outputs": [],
   "source": [
    "general_data"
   ]
  },
  {
   "cell_type": "code",
   "execution_count": null,
   "id": "828d66d3",
   "metadata": {},
   "outputs": [],
   "source": [
    "general_data.columns = ['Comment']"
   ]
  },
  {
   "cell_type": "code",
   "execution_count": null,
   "id": "79846978",
   "metadata": {},
   "outputs": [],
   "source": [
    "general_data"
   ]
  },
  {
   "cell_type": "code",
   "execution_count": null,
   "id": "72d0f0e2",
   "metadata": {},
   "outputs": [],
   "source": [
    "general_data['Label'] = 'General'"
   ]
  },
  {
   "cell_type": "code",
   "execution_count": null,
   "id": "f268bbd4",
   "metadata": {},
   "outputs": [],
   "source": [
    "general_data"
   ]
  },
  {
   "cell_type": "markdown",
   "id": "39bf0b70",
   "metadata": {},
   "source": [
    "# CLEAN UP"
   ]
  },
  {
   "cell_type": "code",
   "execution_count": null,
   "id": "9e0a3824",
   "metadata": {},
   "outputs": [],
   "source": [
    "general_data['Comment'] = general_data['Comment'].apply(clean_up)"
   ]
  },
  {
   "cell_type": "code",
   "execution_count": null,
   "id": "7020802d",
   "metadata": {},
   "outputs": [],
   "source": [
    "general_data"
   ]
  },
  {
   "cell_type": "markdown",
   "id": "aa962c3f",
   "metadata": {},
   "source": [
    "# TOKENIZATION"
   ]
  },
  {
   "cell_type": "code",
   "execution_count": null,
   "id": "e0007f00",
   "metadata": {},
   "outputs": [],
   "source": [
    "general_data['Comment'] = general_data['Comment'].apply(tokenize)"
   ]
  },
  {
   "cell_type": "code",
   "execution_count": null,
   "id": "3da72b19",
   "metadata": {
    "scrolled": true
   },
   "outputs": [],
   "source": [
    "general_data"
   ]
  },
  {
   "cell_type": "markdown",
   "id": "77aa300b",
   "metadata": {},
   "source": [
    "# STOP WORDS REMOVAL"
   ]
  },
  {
   "cell_type": "code",
   "execution_count": null,
   "id": "a5132f6b",
   "metadata": {},
   "outputs": [],
   "source": [
    "general_data['Comment'] = general_data['Comment'].apply(remove_stopwords)"
   ]
  },
  {
   "cell_type": "code",
   "execution_count": null,
   "id": "3f3daef8",
   "metadata": {
    "scrolled": true
   },
   "outputs": [],
   "source": [
    "general_data"
   ]
  },
  {
   "cell_type": "markdown",
   "id": "bb0410a9",
   "metadata": {},
   "source": [
    "# STEMMING AND LEMMATIZATION"
   ]
  },
  {
   "cell_type": "code",
   "execution_count": null,
   "id": "4d73e3aa",
   "metadata": {},
   "outputs": [],
   "source": [
    "general_data['Comment'] = general_data['Comment'].apply(stem_and_lemmatize)"
   ]
  },
  {
   "cell_type": "code",
   "execution_count": null,
   "id": "d56f6452",
   "metadata": {},
   "outputs": [],
   "source": [
    "type(general_data.Comment[0])"
   ]
  },
  {
   "cell_type": "code",
   "execution_count": null,
   "id": "fd773ced",
   "metadata": {},
   "outputs": [],
   "source": [
    "general_data.to_csv('/Users/igorhufnagel/Desktop/Ironhack/LABS/Final Project/Datasets/general_data_cleaned.csv', index=False)"
   ]
  },
  {
   "cell_type": "code",
   "execution_count": null,
   "id": "42930f23",
   "metadata": {},
   "outputs": [],
   "source": [
    "general_data_cleaned = pd.read_csv('/Users/igorhufnagel/Desktop/Ironhack/LABS/Final Project/Datasets_Cleaned/general_data_cleaned.csv')"
   ]
  },
  {
   "cell_type": "code",
   "execution_count": null,
   "id": "c1f2834a",
   "metadata": {},
   "outputs": [],
   "source": [
    "import ast\n",
    "\n"
   ]
  },
  {
   "cell_type": "markdown",
   "id": "d88b666b",
   "metadata": {},
   "source": [
    "# CONCATENATING THE DATASETS"
   ]
  },
  {
   "cell_type": "code",
   "execution_count": null,
   "id": "3bd473be",
   "metadata": {},
   "outputs": [],
   "source": [
    "data_comments = pd.concat([racist_data_cleaned, sexually_data_cleaned, suicide_data_cleaned, badwords_data_cleaned, general_data_cleaned], axis=0)\n",
    "\n",
    "\n",
    "data_comments.reset_index(drop=True, inplace=True)"
   ]
  },
  {
   "cell_type": "code",
   "execution_count": null,
   "id": "7f42e256",
   "metadata": {},
   "outputs": [],
   "source": [
    "data_comments"
   ]
  },
  {
   "cell_type": "code",
   "execution_count": null,
   "id": "9d783370",
   "metadata": {},
   "outputs": [],
   "source": [
    "data_comments.value_counts('Label')"
   ]
  },
  {
   "cell_type": "code",
   "execution_count": null,
   "id": "beec8081",
   "metadata": {},
   "outputs": [],
   "source": [
    "data_comments.to_csv('/Users/igorhufnagel/Desktop/Ironhack/LABS/Final Project/Datasets/data_comments.csv', index=False)"
   ]
  },
  {
   "cell_type": "code",
   "execution_count": 3,
   "id": "32aeb6cd",
   "metadata": {},
   "outputs": [],
   "source": [
    "data_comments = pd.read_csv('/Users/igorhufnagel/Desktop/Ironhack/LABS/Final Project/Datasets_Cleaned/data_comments.csv')"
   ]
  },
  {
   "cell_type": "code",
   "execution_count": 5,
   "id": "057f6ed9",
   "metadata": {},
   "outputs": [
    {
     "data": {
      "text/html": [
       "<div>\n",
       "<style scoped>\n",
       "    .dataframe tbody tr th:only-of-type {\n",
       "        vertical-align: middle;\n",
       "    }\n",
       "\n",
       "    .dataframe tbody tr th {\n",
       "        vertical-align: top;\n",
       "    }\n",
       "\n",
       "    .dataframe thead th {\n",
       "        text-align: right;\n",
       "    }\n",
       "</style>\n",
       "<table border=\"1\" class=\"dataframe\">\n",
       "  <thead>\n",
       "    <tr style=\"text-align: right;\">\n",
       "      <th></th>\n",
       "      <th>Comment</th>\n",
       "      <th>Label</th>\n",
       "    </tr>\n",
       "  </thead>\n",
       "  <tbody>\n",
       "    <tr>\n",
       "      <th>0</th>\n",
       "      <td>['born', 'racist', 'die', 'racist', 'rest', 'u...</td>\n",
       "      <td>Racist</td>\n",
       "    </tr>\n",
       "    <tr>\n",
       "      <th>1</th>\n",
       "      <td>['bitch', 'nigga', 'miss']</td>\n",
       "      <td>Racist</td>\n",
       "    </tr>\n",
       "    <tr>\n",
       "      <th>2</th>\n",
       "      <td>['aint', 'bout', 'murder', 'game', 'pussi', 'n...</td>\n",
       "      <td>Racist</td>\n",
       "    </tr>\n",
       "    <tr>\n",
       "      <th>3</th>\n",
       "      <td>['gay', 'nigga', 'couldnt', 'wait', 'act', 'li...</td>\n",
       "      <td>Racist</td>\n",
       "    </tr>\n",
       "    <tr>\n",
       "      <th>4</th>\n",
       "      <td>['deo', 'gorilla', 'alway', 'frown', 'ten', 'm...</td>\n",
       "      <td>Racist</td>\n",
       "    </tr>\n",
       "    <tr>\n",
       "      <th>...</th>\n",
       "      <td>...</td>\n",
       "      <td>...</td>\n",
       "    </tr>\n",
       "    <tr>\n",
       "      <th>1846017</th>\n",
       "      <td>['woke', 'school', 'best', 'feel', 'ever']</td>\n",
       "      <td>General</td>\n",
       "    </tr>\n",
       "    <tr>\n",
       "      <th>1846018</th>\n",
       "      <td>['thewdb', 'com', 'cool', 'hear', 'old', 'walt...</td>\n",
       "      <td>General</td>\n",
       "    </tr>\n",
       "    <tr>\n",
       "      <th>1846019</th>\n",
       "      <td>['readi', 'mojo', 'makeov', 'ask', 'detail']</td>\n",
       "      <td>General</td>\n",
       "    </tr>\n",
       "    <tr>\n",
       "      <th>1846020</th>\n",
       "      <td>['happi', 'th', 'birthday', 'boo', 'alll', 'ti...</td>\n",
       "      <td>General</td>\n",
       "    </tr>\n",
       "    <tr>\n",
       "      <th>1846021</th>\n",
       "      <td>['happi', 'charitytuesday', 'thenspcc', 'spark...</td>\n",
       "      <td>General</td>\n",
       "    </tr>\n",
       "  </tbody>\n",
       "</table>\n",
       "<p>1846022 rows × 2 columns</p>\n",
       "</div>"
      ],
      "text/plain": [
       "                                                   Comment    Label\n",
       "0        ['born', 'racist', 'die', 'racist', 'rest', 'u...   Racist\n",
       "1                               ['bitch', 'nigga', 'miss']   Racist\n",
       "2        ['aint', 'bout', 'murder', 'game', 'pussi', 'n...   Racist\n",
       "3        ['gay', 'nigga', 'couldnt', 'wait', 'act', 'li...   Racist\n",
       "4        ['deo', 'gorilla', 'alway', 'frown', 'ten', 'm...   Racist\n",
       "...                                                    ...      ...\n",
       "1846017         ['woke', 'school', 'best', 'feel', 'ever']  General\n",
       "1846018  ['thewdb', 'com', 'cool', 'hear', 'old', 'walt...  General\n",
       "1846019       ['readi', 'mojo', 'makeov', 'ask', 'detail']  General\n",
       "1846020  ['happi', 'th', 'birthday', 'boo', 'alll', 'ti...  General\n",
       "1846021  ['happi', 'charitytuesday', 'thenspcc', 'spark...  General\n",
       "\n",
       "[1846022 rows x 2 columns]"
      ]
     },
     "execution_count": 5,
     "metadata": {},
     "output_type": "execute_result"
    }
   ],
   "source": [
    "data_comments"
   ]
  },
  {
   "cell_type": "code",
   "execution_count": 4,
   "id": "17159139",
   "metadata": {},
   "outputs": [
    {
     "data": {
      "text/plain": [
       "General     1716036\n",
       "Suicide      116037\n",
       "Sexual        12513\n",
       "Hate           1211\n",
       "Bullying        225\n",
       "Name: Label, dtype: int64"
      ]
     },
     "execution_count": 4,
     "metadata": {},
     "output_type": "execute_result"
    }
   ],
   "source": [
    "category_mapping = {\n",
    "    'non-suicide': 'General',\n",
    "    'suicide': 'Suicide',\n",
    "    'Sexual': 'Sexual',\n",
    "    'Racist': 'Hate',\n",
    "    'sexual anatomy / sexual acts': 'Sexual',\n",
    "    'racial / ethnic slurs': 'Hate',\n",
    "    'sexual orientation / gender': 'Sexual',\n",
    "    'bodily fluids / excrement': 'Bullying',\n",
    "    'other / general insult': 'Bullying',\n",
    "    'religious offense': 'Hate',\n",
    "    'mental disability': 'Bullying',\n",
    "    'animal references': 'Bullying',\n",
    "    'physical attributes': 'Bullying',\n",
    "    'political': 'Bullying',\n",
    "    'physical disability': 'Bullying'\n",
    "}\n",
    "\n",
    "# Replacing the original categories with the new categories\n",
    "data_comments['Label'] = data_comments['Label'].replace(category_mapping)\n",
    "\n",
    "data_comments['Label'].value_counts()"
   ]
  },
  {
   "cell_type": "code",
   "execution_count": 5,
   "id": "39af750a",
   "metadata": {},
   "outputs": [
    {
     "name": "stdout",
     "output_type": "stream",
     "text": [
      "   Category    Count  Percentage\n",
      "0   General  1716036   92.958589\n",
      "1   Suicide   116037    6.285786\n",
      "2    Sexual    12513    0.677836\n",
      "3      Hate     1211    0.065601\n",
      "4  Bullying      225    0.012188\n"
     ]
    }
   ],
   "source": [
    "category_counts = pd.DataFrame({\n",
    "    'Category': ['General', 'Suicide', 'Sexual', 'Hate', 'Bullying'],\n",
    "    'Count': [1716036, 116037, 12513, 1211, 225]\n",
    "})\n",
    "\n",
    "# Calculating the percentage\n",
    "category_counts['Percentage'] = category_counts['Count'] / category_counts['Count'].sum() * 100\n",
    "\n",
    "\n",
    "print(category_counts)"
   ]
  },
  {
   "cell_type": "code",
   "execution_count": 6,
   "id": "938c2c10",
   "metadata": {},
   "outputs": [
    {
     "name": "stdout",
     "output_type": "stream",
     "text": [
      "                                                   Comment    Label\n",
      "169749   ['one', 'way', 'anoth', 'end', 'weeki', 'strug...  Suicide\n",
      "219458   ['read', 'rant', 'dwi', 'like', 'way', 'look',...  Suicide\n",
      "1066383  ['home', 'park', 'fun', 'full', 'mud', 'wear',...  General\n",
      "1298024                               ['littlele', 'cute']  General\n",
      "123821   ['fuck', 'lifeim', 'yr', 'old', 'im', 'current...  Suicide\n",
      "...                                                    ...      ...\n",
      "3842                                               ['fun']   Sexual\n",
      "1436168                           ['lil', 'chri', 'today']  General\n",
      "19617    ['get', 'better', 'one', 'day', 'aye', 'sure',...  Suicide\n",
      "49539    ['help', 'plea', 'tri', 'best', 'start', 'wake...  Suicide\n",
      "5921                                           ['enchant']   Sexual\n",
      "\n",
      "[246023 rows x 2 columns]\n"
     ]
    }
   ],
   "source": [
    "# Defining the target number of samples\n",
    "target_count = 116037\n",
    "\n",
    "# Undersample the majority class\n",
    "undersampled_general = data_comments[data_comments['Label'] == 'General'].sample(target_count, random_state=42)\n",
    "\n",
    "# Combine undersampled majority class with minority classes\n",
    "undersampled_data = pd.concat([undersampled_general, data_comments[data_comments['Label'] != 'General']])\n",
    "\n",
    "# Shuffle the undersampled dataset\n",
    "undersampled_data = undersampled_data.sample(frac=1, random_state=42)\n",
    "\n",
    "# Print the undersampled dataset\n",
    "print(undersampled_data)"
   ]
  },
  {
   "cell_type": "code",
   "execution_count": 7,
   "id": "39930de0",
   "metadata": {},
   "outputs": [
    {
     "data": {
      "text/plain": [
       "Label\n",
       "General     116037\n",
       "Suicide     116037\n",
       "Sexual       12513\n",
       "Hate          1211\n",
       "Bullying       225\n",
       "dtype: int64"
      ]
     },
     "execution_count": 7,
     "metadata": {},
     "output_type": "execute_result"
    }
   ],
   "source": [
    "undersampled_data.value_counts('Label')"
   ]
  },
  {
   "cell_type": "code",
   "execution_count": 8,
   "id": "656cb2b3",
   "metadata": {},
   "outputs": [
    {
     "data": {
      "text/html": [
       "<div>\n",
       "<style scoped>\n",
       "    .dataframe tbody tr th:only-of-type {\n",
       "        vertical-align: middle;\n",
       "    }\n",
       "\n",
       "    .dataframe tbody tr th {\n",
       "        vertical-align: top;\n",
       "    }\n",
       "\n",
       "    .dataframe thead th {\n",
       "        text-align: right;\n",
       "    }\n",
       "</style>\n",
       "<table border=\"1\" class=\"dataframe\">\n",
       "  <thead>\n",
       "    <tr style=\"text-align: right;\">\n",
       "      <th></th>\n",
       "      <th>Comment</th>\n",
       "      <th>Label</th>\n",
       "    </tr>\n",
       "  </thead>\n",
       "  <tbody>\n",
       "    <tr>\n",
       "      <th>169749</th>\n",
       "      <td>['one', 'way', 'anoth', 'end', 'weeki', 'strug...</td>\n",
       "      <td>Suicide</td>\n",
       "    </tr>\n",
       "    <tr>\n",
       "      <th>219458</th>\n",
       "      <td>['read', 'rant', 'dwi', 'like', 'way', 'look',...</td>\n",
       "      <td>Suicide</td>\n",
       "    </tr>\n",
       "    <tr>\n",
       "      <th>1066383</th>\n",
       "      <td>['home', 'park', 'fun', 'full', 'mud', 'wear',...</td>\n",
       "      <td>General</td>\n",
       "    </tr>\n",
       "    <tr>\n",
       "      <th>1298024</th>\n",
       "      <td>['littlele', 'cute']</td>\n",
       "      <td>General</td>\n",
       "    </tr>\n",
       "    <tr>\n",
       "      <th>123821</th>\n",
       "      <td>['fuck', 'lifeim', 'yr', 'old', 'im', 'current...</td>\n",
       "      <td>Suicide</td>\n",
       "    </tr>\n",
       "    <tr>\n",
       "      <th>...</th>\n",
       "      <td>...</td>\n",
       "      <td>...</td>\n",
       "    </tr>\n",
       "    <tr>\n",
       "      <th>3842</th>\n",
       "      <td>['fun']</td>\n",
       "      <td>Sexual</td>\n",
       "    </tr>\n",
       "    <tr>\n",
       "      <th>1436168</th>\n",
       "      <td>['lil', 'chri', 'today']</td>\n",
       "      <td>General</td>\n",
       "    </tr>\n",
       "    <tr>\n",
       "      <th>19617</th>\n",
       "      <td>['get', 'better', 'one', 'day', 'aye', 'sure',...</td>\n",
       "      <td>Suicide</td>\n",
       "    </tr>\n",
       "    <tr>\n",
       "      <th>49539</th>\n",
       "      <td>['help', 'plea', 'tri', 'best', 'start', 'wake...</td>\n",
       "      <td>Suicide</td>\n",
       "    </tr>\n",
       "    <tr>\n",
       "      <th>5921</th>\n",
       "      <td>['enchant']</td>\n",
       "      <td>Sexual</td>\n",
       "    </tr>\n",
       "  </tbody>\n",
       "</table>\n",
       "<p>246023 rows × 2 columns</p>\n",
       "</div>"
      ],
      "text/plain": [
       "                                                   Comment    Label\n",
       "169749   ['one', 'way', 'anoth', 'end', 'weeki', 'strug...  Suicide\n",
       "219458   ['read', 'rant', 'dwi', 'like', 'way', 'look',...  Suicide\n",
       "1066383  ['home', 'park', 'fun', 'full', 'mud', 'wear',...  General\n",
       "1298024                               ['littlele', 'cute']  General\n",
       "123821   ['fuck', 'lifeim', 'yr', 'old', 'im', 'current...  Suicide\n",
       "...                                                    ...      ...\n",
       "3842                                               ['fun']   Sexual\n",
       "1436168                           ['lil', 'chri', 'today']  General\n",
       "19617    ['get', 'better', 'one', 'day', 'aye', 'sure',...  Suicide\n",
       "49539    ['help', 'plea', 'tri', 'best', 'start', 'wake...  Suicide\n",
       "5921                                           ['enchant']   Sexual\n",
       "\n",
       "[246023 rows x 2 columns]"
      ]
     },
     "execution_count": 8,
     "metadata": {},
     "output_type": "execute_result"
    }
   ],
   "source": [
    "undersampled_data"
   ]
  },
  {
   "cell_type": "code",
   "execution_count": 9,
   "id": "be4a2018",
   "metadata": {},
   "outputs": [],
   "source": [
    "import ast\n",
    "\n",
    "undersampled_data['Phrase'] = [ast.literal_eval(x) for x in undersampled_data['Comment']]"
   ]
  },
  {
   "cell_type": "code",
   "execution_count": 11,
   "id": "afc5a55a",
   "metadata": {},
   "outputs": [
    {
     "data": {
      "text/html": [
       "<div>\n",
       "<style scoped>\n",
       "    .dataframe tbody tr th:only-of-type {\n",
       "        vertical-align: middle;\n",
       "    }\n",
       "\n",
       "    .dataframe tbody tr th {\n",
       "        vertical-align: top;\n",
       "    }\n",
       "\n",
       "    .dataframe thead th {\n",
       "        text-align: right;\n",
       "    }\n",
       "</style>\n",
       "<table border=\"1\" class=\"dataframe\">\n",
       "  <thead>\n",
       "    <tr style=\"text-align: right;\">\n",
       "      <th></th>\n",
       "      <th>Comment</th>\n",
       "      <th>Label</th>\n",
       "      <th>Phrase</th>\n",
       "    </tr>\n",
       "  </thead>\n",
       "  <tbody>\n",
       "    <tr>\n",
       "      <th>169749</th>\n",
       "      <td>['one', 'way', 'anoth', 'end', 'weeki', 'strug...</td>\n",
       "      <td>Suicide</td>\n",
       "      <td>[one, way, anoth, end, weeki, struggl, almost,...</td>\n",
       "    </tr>\n",
       "    <tr>\n",
       "      <th>219458</th>\n",
       "      <td>['read', 'rant', 'dwi', 'like', 'way', 'look',...</td>\n",
       "      <td>Suicide</td>\n",
       "      <td>[read, rant, dwi, like, way, look, life, intel...</td>\n",
       "    </tr>\n",
       "    <tr>\n",
       "      <th>1066383</th>\n",
       "      <td>['home', 'park', 'fun', 'full', 'mud', 'wear',...</td>\n",
       "      <td>General</td>\n",
       "      <td>[home, park, fun, full, mud, wear, white, park...</td>\n",
       "    </tr>\n",
       "    <tr>\n",
       "      <th>1298024</th>\n",
       "      <td>['littlele', 'cute']</td>\n",
       "      <td>General</td>\n",
       "      <td>[littlele, cute]</td>\n",
       "    </tr>\n",
       "    <tr>\n",
       "      <th>123821</th>\n",
       "      <td>['fuck', 'lifeim', 'yr', 'old', 'im', 'current...</td>\n",
       "      <td>Suicide</td>\n",
       "      <td>[fuck, lifeim, yr, old, im, current, third, ye...</td>\n",
       "    </tr>\n",
       "    <tr>\n",
       "      <th>...</th>\n",
       "      <td>...</td>\n",
       "      <td>...</td>\n",
       "      <td>...</td>\n",
       "    </tr>\n",
       "    <tr>\n",
       "      <th>3842</th>\n",
       "      <td>['fun']</td>\n",
       "      <td>Sexual</td>\n",
       "      <td>[fun]</td>\n",
       "    </tr>\n",
       "    <tr>\n",
       "      <th>1436168</th>\n",
       "      <td>['lil', 'chri', 'today']</td>\n",
       "      <td>General</td>\n",
       "      <td>[lil, chri, today]</td>\n",
       "    </tr>\n",
       "    <tr>\n",
       "      <th>19617</th>\n",
       "      <td>['get', 'better', 'one', 'day', 'aye', 'sure',...</td>\n",
       "      <td>Suicide</td>\n",
       "      <td>[get, better, one, day, aye, sure, heard, year...</td>\n",
       "    </tr>\n",
       "    <tr>\n",
       "      <th>49539</th>\n",
       "      <td>['help', 'plea', 'tri', 'best', 'start', 'wake...</td>\n",
       "      <td>Suicide</td>\n",
       "      <td>[help, plea, tri, best, start, wake, earli, mo...</td>\n",
       "    </tr>\n",
       "    <tr>\n",
       "      <th>5921</th>\n",
       "      <td>['enchant']</td>\n",
       "      <td>Sexual</td>\n",
       "      <td>[enchant]</td>\n",
       "    </tr>\n",
       "  </tbody>\n",
       "</table>\n",
       "<p>246023 rows × 3 columns</p>\n",
       "</div>"
      ],
      "text/plain": [
       "                                                   Comment    Label  \\\n",
       "169749   ['one', 'way', 'anoth', 'end', 'weeki', 'strug...  Suicide   \n",
       "219458   ['read', 'rant', 'dwi', 'like', 'way', 'look',...  Suicide   \n",
       "1066383  ['home', 'park', 'fun', 'full', 'mud', 'wear',...  General   \n",
       "1298024                               ['littlele', 'cute']  General   \n",
       "123821   ['fuck', 'lifeim', 'yr', 'old', 'im', 'current...  Suicide   \n",
       "...                                                    ...      ...   \n",
       "3842                                               ['fun']   Sexual   \n",
       "1436168                           ['lil', 'chri', 'today']  General   \n",
       "19617    ['get', 'better', 'one', 'day', 'aye', 'sure',...  Suicide   \n",
       "49539    ['help', 'plea', 'tri', 'best', 'start', 'wake...  Suicide   \n",
       "5921                                           ['enchant']   Sexual   \n",
       "\n",
       "                                                    Phrase  \n",
       "169749   [one, way, anoth, end, weeki, struggl, almost,...  \n",
       "219458   [read, rant, dwi, like, way, look, life, intel...  \n",
       "1066383  [home, park, fun, full, mud, wear, white, park...  \n",
       "1298024                                   [littlele, cute]  \n",
       "123821   [fuck, lifeim, yr, old, im, current, third, ye...  \n",
       "...                                                    ...  \n",
       "3842                                                 [fun]  \n",
       "1436168                                 [lil, chri, today]  \n",
       "19617    [get, better, one, day, aye, sure, heard, year...  \n",
       "49539    [help, plea, tri, best, start, wake, earli, mo...  \n",
       "5921                                             [enchant]  \n",
       "\n",
       "[246023 rows x 3 columns]"
      ]
     },
     "execution_count": 11,
     "metadata": {},
     "output_type": "execute_result"
    }
   ],
   "source": [
    "undersampled_data"
   ]
  },
  {
   "cell_type": "code",
   "execution_count": 12,
   "id": "51d348d2",
   "metadata": {},
   "outputs": [],
   "source": [
    "undersampled_data['Phrase'] = undersampled_data['Phrase'].apply(lambda x: \" \".join(x))"
   ]
  },
  {
   "cell_type": "code",
   "execution_count": 13,
   "id": "21dfe2aa",
   "metadata": {
    "scrolled": true
   },
   "outputs": [
    {
     "data": {
      "text/html": [
       "<div>\n",
       "<style scoped>\n",
       "    .dataframe tbody tr th:only-of-type {\n",
       "        vertical-align: middle;\n",
       "    }\n",
       "\n",
       "    .dataframe tbody tr th {\n",
       "        vertical-align: top;\n",
       "    }\n",
       "\n",
       "    .dataframe thead th {\n",
       "        text-align: right;\n",
       "    }\n",
       "</style>\n",
       "<table border=\"1\" class=\"dataframe\">\n",
       "  <thead>\n",
       "    <tr style=\"text-align: right;\">\n",
       "      <th></th>\n",
       "      <th>Comment</th>\n",
       "      <th>Label</th>\n",
       "      <th>Phrase</th>\n",
       "    </tr>\n",
       "  </thead>\n",
       "  <tbody>\n",
       "    <tr>\n",
       "      <th>169749</th>\n",
       "      <td>['one', 'way', 'anoth', 'end', 'weeki', 'strug...</td>\n",
       "      <td>Suicide</td>\n",
       "      <td>one way anoth end weeki struggl almost constan...</td>\n",
       "    </tr>\n",
       "    <tr>\n",
       "      <th>219458</th>\n",
       "      <td>['read', 'rant', 'dwi', 'like', 'way', 'look',...</td>\n",
       "      <td>Suicide</td>\n",
       "      <td>read rant dwi like way look life intellig prov...</td>\n",
       "    </tr>\n",
       "    <tr>\n",
       "      <th>1066383</th>\n",
       "      <td>['home', 'park', 'fun', 'full', 'mud', 'wear',...</td>\n",
       "      <td>General</td>\n",
       "      <td>home park fun full mud wear white park ju sayi...</td>\n",
       "    </tr>\n",
       "    <tr>\n",
       "      <th>1298024</th>\n",
       "      <td>['littlele', 'cute']</td>\n",
       "      <td>General</td>\n",
       "      <td>littlele cute</td>\n",
       "    </tr>\n",
       "    <tr>\n",
       "      <th>123821</th>\n",
       "      <td>['fuck', 'lifeim', 'yr', 'old', 'im', 'current...</td>\n",
       "      <td>Suicide</td>\n",
       "      <td>fuck lifeim yr old im current third year colle...</td>\n",
       "    </tr>\n",
       "    <tr>\n",
       "      <th>...</th>\n",
       "      <td>...</td>\n",
       "      <td>...</td>\n",
       "      <td>...</td>\n",
       "    </tr>\n",
       "    <tr>\n",
       "      <th>3842</th>\n",
       "      <td>['fun']</td>\n",
       "      <td>Sexual</td>\n",
       "      <td>fun</td>\n",
       "    </tr>\n",
       "    <tr>\n",
       "      <th>1436168</th>\n",
       "      <td>['lil', 'chri', 'today']</td>\n",
       "      <td>General</td>\n",
       "      <td>lil chri today</td>\n",
       "    </tr>\n",
       "    <tr>\n",
       "      <th>19617</th>\n",
       "      <td>['get', 'better', 'one', 'day', 'aye', 'sure',...</td>\n",
       "      <td>Suicide</td>\n",
       "      <td>get better one day aye sure heard year told mo...</td>\n",
       "    </tr>\n",
       "    <tr>\n",
       "      <th>49539</th>\n",
       "      <td>['help', 'plea', 'tri', 'best', 'start', 'wake...</td>\n",
       "      <td>Suicide</td>\n",
       "      <td>help plea tri best start wake earli morn jog g...</td>\n",
       "    </tr>\n",
       "    <tr>\n",
       "      <th>5921</th>\n",
       "      <td>['enchant']</td>\n",
       "      <td>Sexual</td>\n",
       "      <td>enchant</td>\n",
       "    </tr>\n",
       "  </tbody>\n",
       "</table>\n",
       "<p>246023 rows × 3 columns</p>\n",
       "</div>"
      ],
      "text/plain": [
       "                                                   Comment    Label  \\\n",
       "169749   ['one', 'way', 'anoth', 'end', 'weeki', 'strug...  Suicide   \n",
       "219458   ['read', 'rant', 'dwi', 'like', 'way', 'look',...  Suicide   \n",
       "1066383  ['home', 'park', 'fun', 'full', 'mud', 'wear',...  General   \n",
       "1298024                               ['littlele', 'cute']  General   \n",
       "123821   ['fuck', 'lifeim', 'yr', 'old', 'im', 'current...  Suicide   \n",
       "...                                                    ...      ...   \n",
       "3842                                               ['fun']   Sexual   \n",
       "1436168                           ['lil', 'chri', 'today']  General   \n",
       "19617    ['get', 'better', 'one', 'day', 'aye', 'sure',...  Suicide   \n",
       "49539    ['help', 'plea', 'tri', 'best', 'start', 'wake...  Suicide   \n",
       "5921                                           ['enchant']   Sexual   \n",
       "\n",
       "                                                    Phrase  \n",
       "169749   one way anoth end weeki struggl almost constan...  \n",
       "219458   read rant dwi like way look life intellig prov...  \n",
       "1066383  home park fun full mud wear white park ju sayi...  \n",
       "1298024                                      littlele cute  \n",
       "123821   fuck lifeim yr old im current third year colle...  \n",
       "...                                                    ...  \n",
       "3842                                                   fun  \n",
       "1436168                                     lil chri today  \n",
       "19617    get better one day aye sure heard year told mo...  \n",
       "49539    help plea tri best start wake earli morn jog g...  \n",
       "5921                                               enchant  \n",
       "\n",
       "[246023 rows x 3 columns]"
      ]
     },
     "execution_count": 13,
     "metadata": {},
     "output_type": "execute_result"
    }
   ],
   "source": [
    "undersampled_data"
   ]
  },
  {
   "cell_type": "code",
   "execution_count": 15,
   "id": "363a577b",
   "metadata": {},
   "outputs": [],
   "source": [
    "undersampled_data.to_csv('/Users/igorhufnagel/Desktop/Ironhack/LABS/Final Project/Datasets/Undersampled_Data.csv', index=False)"
   ]
  },
  {
   "cell_type": "markdown",
   "id": "81fa093e",
   "metadata": {},
   "source": [
    "# TRAINING THE MODEL"
   ]
  },
  {
   "cell_type": "code",
   "execution_count": 16,
   "id": "7aa60b46",
   "metadata": {},
   "outputs": [],
   "source": [
    "from sklearn.model_selection import train_test_split"
   ]
  },
  {
   "cell_type": "code",
   "execution_count": null,
   "id": "6a8f3044",
   "metadata": {},
   "outputs": [],
   "source": [
    "X = undersampled_data['Phrase']\n",
    "y = undersampled_data['Label']"
   ]
  },
  {
   "cell_type": "code",
   "execution_count": null,
   "id": "102e0fa2",
   "metadata": {},
   "outputs": [],
   "source": [
    "!pip install spacy\n",
    "! spacy download en_core_web_md"
   ]
  },
  {
   "cell_type": "code",
   "execution_count": null,
   "id": "6837281d",
   "metadata": {
    "scrolled": false
   },
   "outputs": [],
   "source": [
    "!pip install spacy\n",
    "! spacy download en_core_web_lg"
   ]
  },
  {
   "cell_type": "code",
   "execution_count": 16,
   "id": "5265d9bb",
   "metadata": {},
   "outputs": [],
   "source": [
    "import spacy\n",
    "\n",
    "nlp = spacy.load('en_core_web_lg')"
   ]
  },
  {
   "cell_type": "code",
   "execution_count": 17,
   "id": "ae6cb0a5",
   "metadata": {},
   "outputs": [],
   "source": [
    "undersampled_data_2 = undersampled_data.sample(n=116037)\n",
    "\n",
    "undersampled_data_2['Vector']=[nlp(x).vector for x in undersampled_data_2['Phrase']]"
   ]
  },
  {
   "cell_type": "code",
   "execution_count": 19,
   "id": "36437e3a",
   "metadata": {
    "scrolled": true
   },
   "outputs": [
    {
     "data": {
      "text/html": [
       "<div>\n",
       "<style scoped>\n",
       "    .dataframe tbody tr th:only-of-type {\n",
       "        vertical-align: middle;\n",
       "    }\n",
       "\n",
       "    .dataframe tbody tr th {\n",
       "        vertical-align: top;\n",
       "    }\n",
       "\n",
       "    .dataframe thead th {\n",
       "        text-align: right;\n",
       "    }\n",
       "</style>\n",
       "<table border=\"1\" class=\"dataframe\">\n",
       "  <thead>\n",
       "    <tr style=\"text-align: right;\">\n",
       "      <th></th>\n",
       "      <th>Comment</th>\n",
       "      <th>Label</th>\n",
       "      <th>Phrase</th>\n",
       "      <th>Vector</th>\n",
       "    </tr>\n",
       "  </thead>\n",
       "  <tbody>\n",
       "    <tr>\n",
       "      <th>725254</th>\n",
       "      <td>['shower', 'work', 'hour']</td>\n",
       "      <td>General</td>\n",
       "      <td>shower work hour</td>\n",
       "      <td>[-1.0268067, 2.0887334, -3.5422666, -0.6353767...</td>\n",
       "    </tr>\n",
       "    <tr>\n",
       "      <th>1048434</th>\n",
       "      <td>['nmogha', 'never', 'seen', 'movi', 'like', 'q...</td>\n",
       "      <td>General</td>\n",
       "      <td>nmogha never seen movi like quot</td>\n",
       "      <td>[-0.41200662, 1.1926466, -0.9799383, -0.727015...</td>\n",
       "    </tr>\n",
       "    <tr>\n",
       "      <th>96722</th>\n",
       "      <td>['carri', 'advic', 'plshi', 'realli', 'hate', ...</td>\n",
       "      <td>Suicide</td>\n",
       "      <td>carri advic plshi realli hate life atm hav any...</td>\n",
       "      <td>[0.7907921, 0.78971606, -1.3692774, -0.5044356...</td>\n",
       "    </tr>\n",
       "    <tr>\n",
       "      <th>752636</th>\n",
       "      <td>['realli', 'need', 'lcd', 'tv', 'bathroom', 'w...</td>\n",
       "      <td>General</td>\n",
       "      <td>realli need lcd tv bathroom waterfal foyer hea...</td>\n",
       "      <td>[-0.067275375, 2.0197039, -2.4950197, -1.20409...</td>\n",
       "    </tr>\n",
       "    <tr>\n",
       "      <th>299869</th>\n",
       "      <td>['amberlov', 'peopl', 'say', 'like', 'year', '...</td>\n",
       "      <td>General</td>\n",
       "      <td>amberlov peopl say like year someth im realli ...</td>\n",
       "      <td>[-0.41775924, 0.12798229, -0.649863, -1.340523...</td>\n",
       "    </tr>\n",
       "    <tr>\n",
       "      <th>...</th>\n",
       "      <td>...</td>\n",
       "      <td>...</td>\n",
       "      <td>...</td>\n",
       "      <td>...</td>\n",
       "    </tr>\n",
       "    <tr>\n",
       "      <th>1217323</th>\n",
       "      <td>['ray', 'anthoni', 'raymond', 'your', 'silli',...</td>\n",
       "      <td>General</td>\n",
       "      <td>ray anthoni raymond your silli goo that</td>\n",
       "      <td>[-0.07882859, 2.9595757, -2.4501987, 0.0864648...</td>\n",
       "    </tr>\n",
       "    <tr>\n",
       "      <th>468339</th>\n",
       "      <td>['summer', 'come', 'im', 'go', 'miss', 'sam']</td>\n",
       "      <td>General</td>\n",
       "      <td>summer come im go miss sam</td>\n",
       "      <td>[0.30317855, 1.1647214, -3.2032266, -1.6358572...</td>\n",
       "    </tr>\n",
       "    <tr>\n",
       "      <th>1220897</th>\n",
       "      <td>['hipster']</td>\n",
       "      <td>General</td>\n",
       "      <td>hipster</td>\n",
       "      <td>[0.1389, 1.8154, 1.3685, 0.56896, -1.5863, 0.4...</td>\n",
       "    </tr>\n",
       "    <tr>\n",
       "      <th>624726</th>\n",
       "      <td>['mad', 'ive', 'miss', 'everi', 'conan', 'show...</td>\n",
       "      <td>General</td>\n",
       "      <td>mad ive miss everi conan show week except toni...</td>\n",
       "      <td>[2.1761897, 0.026422458, -0.4633268, -1.494540...</td>\n",
       "    </tr>\n",
       "    <tr>\n",
       "      <th>121138</th>\n",
       "      <td>['dilemmaso', 'know', 'start', 'want', 'detail...</td>\n",
       "      <td>Suicide</td>\n",
       "      <td>dilemmaso know start want detail tri vent litt...</td>\n",
       "      <td>[-0.052053023, 1.1380367, -1.8810619, -0.26587...</td>\n",
       "    </tr>\n",
       "  </tbody>\n",
       "</table>\n",
       "<p>116037 rows × 4 columns</p>\n",
       "</div>"
      ],
      "text/plain": [
       "                                                   Comment    Label  \\\n",
       "725254                          ['shower', 'work', 'hour']  General   \n",
       "1048434  ['nmogha', 'never', 'seen', 'movi', 'like', 'q...  General   \n",
       "96722    ['carri', 'advic', 'plshi', 'realli', 'hate', ...  Suicide   \n",
       "752636   ['realli', 'need', 'lcd', 'tv', 'bathroom', 'w...  General   \n",
       "299869   ['amberlov', 'peopl', 'say', 'like', 'year', '...  General   \n",
       "...                                                    ...      ...   \n",
       "1217323  ['ray', 'anthoni', 'raymond', 'your', 'silli',...  General   \n",
       "468339       ['summer', 'come', 'im', 'go', 'miss', 'sam']  General   \n",
       "1220897                                        ['hipster']  General   \n",
       "624726   ['mad', 'ive', 'miss', 'everi', 'conan', 'show...  General   \n",
       "121138   ['dilemmaso', 'know', 'start', 'want', 'detail...  Suicide   \n",
       "\n",
       "                                                    Phrase  \\\n",
       "725254                                    shower work hour   \n",
       "1048434                   nmogha never seen movi like quot   \n",
       "96722    carri advic plshi realli hate life atm hav any...   \n",
       "752636   realli need lcd tv bathroom waterfal foyer hea...   \n",
       "299869   amberlov peopl say like year someth im realli ...   \n",
       "...                                                    ...   \n",
       "1217323            ray anthoni raymond your silli goo that   \n",
       "468339                          summer come im go miss sam   \n",
       "1220897                                            hipster   \n",
       "624726   mad ive miss everi conan show week except toni...   \n",
       "121138   dilemmaso know start want detail tri vent litt...   \n",
       "\n",
       "                                                    Vector  \n",
       "725254   [-1.0268067, 2.0887334, -3.5422666, -0.6353767...  \n",
       "1048434  [-0.41200662, 1.1926466, -0.9799383, -0.727015...  \n",
       "96722    [0.7907921, 0.78971606, -1.3692774, -0.5044356...  \n",
       "752636   [-0.067275375, 2.0197039, -2.4950197, -1.20409...  \n",
       "299869   [-0.41775924, 0.12798229, -0.649863, -1.340523...  \n",
       "...                                                    ...  \n",
       "1217323  [-0.07882859, 2.9595757, -2.4501987, 0.0864648...  \n",
       "468339   [0.30317855, 1.1647214, -3.2032266, -1.6358572...  \n",
       "1220897  [0.1389, 1.8154, 1.3685, 0.56896, -1.5863, 0.4...  \n",
       "624726   [2.1761897, 0.026422458, -0.4633268, -1.494540...  \n",
       "121138   [-0.052053023, 1.1380367, -1.8810619, -0.26587...  \n",
       "\n",
       "[116037 rows x 4 columns]"
      ]
     },
     "execution_count": 19,
     "metadata": {},
     "output_type": "execute_result"
    }
   ],
   "source": [
    "undersampled_data_2"
   ]
  },
  {
   "cell_type": "code",
   "execution_count": 20,
   "id": "6b9eadaf",
   "metadata": {
    "scrolled": true
   },
   "outputs": [
    {
     "data": {
      "text/html": [
       "<div>\n",
       "<style scoped>\n",
       "    .dataframe tbody tr th:only-of-type {\n",
       "        vertical-align: middle;\n",
       "    }\n",
       "\n",
       "    .dataframe tbody tr th {\n",
       "        vertical-align: top;\n",
       "    }\n",
       "\n",
       "    .dataframe thead th {\n",
       "        text-align: right;\n",
       "    }\n",
       "</style>\n",
       "<table border=\"1\" class=\"dataframe\">\n",
       "  <thead>\n",
       "    <tr style=\"text-align: right;\">\n",
       "      <th></th>\n",
       "      <th>Comment</th>\n",
       "      <th>Label</th>\n",
       "      <th>Phrase</th>\n",
       "      <th>Vector</th>\n",
       "      <th>Category</th>\n",
       "    </tr>\n",
       "  </thead>\n",
       "  <tbody>\n",
       "    <tr>\n",
       "      <th>725254</th>\n",
       "      <td>['shower', 'work', 'hour']</td>\n",
       "      <td>General</td>\n",
       "      <td>shower work hour</td>\n",
       "      <td>[-1.0268067, 2.0887334, -3.5422666, -0.6353767...</td>\n",
       "      <td>0</td>\n",
       "    </tr>\n",
       "    <tr>\n",
       "      <th>1048434</th>\n",
       "      <td>['nmogha', 'never', 'seen', 'movi', 'like', 'q...</td>\n",
       "      <td>General</td>\n",
       "      <td>nmogha never seen movi like quot</td>\n",
       "      <td>[-0.41200662, 1.1926466, -0.9799383, -0.727015...</td>\n",
       "      <td>0</td>\n",
       "    </tr>\n",
       "    <tr>\n",
       "      <th>96722</th>\n",
       "      <td>['carri', 'advic', 'plshi', 'realli', 'hate', ...</td>\n",
       "      <td>Suicide</td>\n",
       "      <td>carri advic plshi realli hate life atm hav any...</td>\n",
       "      <td>[0.7907921, 0.78971606, -1.3692774, -0.5044356...</td>\n",
       "      <td>1</td>\n",
       "    </tr>\n",
       "    <tr>\n",
       "      <th>752636</th>\n",
       "      <td>['realli', 'need', 'lcd', 'tv', 'bathroom', 'w...</td>\n",
       "      <td>General</td>\n",
       "      <td>realli need lcd tv bathroom waterfal foyer hea...</td>\n",
       "      <td>[-0.067275375, 2.0197039, -2.4950197, -1.20409...</td>\n",
       "      <td>0</td>\n",
       "    </tr>\n",
       "    <tr>\n",
       "      <th>299869</th>\n",
       "      <td>['amberlov', 'peopl', 'say', 'like', 'year', '...</td>\n",
       "      <td>General</td>\n",
       "      <td>amberlov peopl say like year someth im realli ...</td>\n",
       "      <td>[-0.41775924, 0.12798229, -0.649863, -1.340523...</td>\n",
       "      <td>0</td>\n",
       "    </tr>\n",
       "    <tr>\n",
       "      <th>...</th>\n",
       "      <td>...</td>\n",
       "      <td>...</td>\n",
       "      <td>...</td>\n",
       "      <td>...</td>\n",
       "      <td>...</td>\n",
       "    </tr>\n",
       "    <tr>\n",
       "      <th>1217323</th>\n",
       "      <td>['ray', 'anthoni', 'raymond', 'your', 'silli',...</td>\n",
       "      <td>General</td>\n",
       "      <td>ray anthoni raymond your silli goo that</td>\n",
       "      <td>[-0.07882859, 2.9595757, -2.4501987, 0.0864648...</td>\n",
       "      <td>0</td>\n",
       "    </tr>\n",
       "    <tr>\n",
       "      <th>468339</th>\n",
       "      <td>['summer', 'come', 'im', 'go', 'miss', 'sam']</td>\n",
       "      <td>General</td>\n",
       "      <td>summer come im go miss sam</td>\n",
       "      <td>[0.30317855, 1.1647214, -3.2032266, -1.6358572...</td>\n",
       "      <td>0</td>\n",
       "    </tr>\n",
       "    <tr>\n",
       "      <th>1220897</th>\n",
       "      <td>['hipster']</td>\n",
       "      <td>General</td>\n",
       "      <td>hipster</td>\n",
       "      <td>[0.1389, 1.8154, 1.3685, 0.56896, -1.5863, 0.4...</td>\n",
       "      <td>0</td>\n",
       "    </tr>\n",
       "    <tr>\n",
       "      <th>624726</th>\n",
       "      <td>['mad', 'ive', 'miss', 'everi', 'conan', 'show...</td>\n",
       "      <td>General</td>\n",
       "      <td>mad ive miss everi conan show week except toni...</td>\n",
       "      <td>[2.1761897, 0.026422458, -0.4633268, -1.494540...</td>\n",
       "      <td>0</td>\n",
       "    </tr>\n",
       "    <tr>\n",
       "      <th>121138</th>\n",
       "      <td>['dilemmaso', 'know', 'start', 'want', 'detail...</td>\n",
       "      <td>Suicide</td>\n",
       "      <td>dilemmaso know start want detail tri vent litt...</td>\n",
       "      <td>[-0.052053023, 1.1380367, -1.8810619, -0.26587...</td>\n",
       "      <td>1</td>\n",
       "    </tr>\n",
       "  </tbody>\n",
       "</table>\n",
       "<p>116037 rows × 5 columns</p>\n",
       "</div>"
      ],
      "text/plain": [
       "                                                   Comment    Label  \\\n",
       "725254                          ['shower', 'work', 'hour']  General   \n",
       "1048434  ['nmogha', 'never', 'seen', 'movi', 'like', 'q...  General   \n",
       "96722    ['carri', 'advic', 'plshi', 'realli', 'hate', ...  Suicide   \n",
       "752636   ['realli', 'need', 'lcd', 'tv', 'bathroom', 'w...  General   \n",
       "299869   ['amberlov', 'peopl', 'say', 'like', 'year', '...  General   \n",
       "...                                                    ...      ...   \n",
       "1217323  ['ray', 'anthoni', 'raymond', 'your', 'silli',...  General   \n",
       "468339       ['summer', 'come', 'im', 'go', 'miss', 'sam']  General   \n",
       "1220897                                        ['hipster']  General   \n",
       "624726   ['mad', 'ive', 'miss', 'everi', 'conan', 'show...  General   \n",
       "121138   ['dilemmaso', 'know', 'start', 'want', 'detail...  Suicide   \n",
       "\n",
       "                                                    Phrase  \\\n",
       "725254                                    shower work hour   \n",
       "1048434                   nmogha never seen movi like quot   \n",
       "96722    carri advic plshi realli hate life atm hav any...   \n",
       "752636   realli need lcd tv bathroom waterfal foyer hea...   \n",
       "299869   amberlov peopl say like year someth im realli ...   \n",
       "...                                                    ...   \n",
       "1217323            ray anthoni raymond your silli goo that   \n",
       "468339                          summer come im go miss sam   \n",
       "1220897                                            hipster   \n",
       "624726   mad ive miss everi conan show week except toni...   \n",
       "121138   dilemmaso know start want detail tri vent litt...   \n",
       "\n",
       "                                                    Vector  Category  \n",
       "725254   [-1.0268067, 2.0887334, -3.5422666, -0.6353767...         0  \n",
       "1048434  [-0.41200662, 1.1926466, -0.9799383, -0.727015...         0  \n",
       "96722    [0.7907921, 0.78971606, -1.3692774, -0.5044356...         1  \n",
       "752636   [-0.067275375, 2.0197039, -2.4950197, -1.20409...         0  \n",
       "299869   [-0.41775924, 0.12798229, -0.649863, -1.340523...         0  \n",
       "...                                                    ...       ...  \n",
       "1217323  [-0.07882859, 2.9595757, -2.4501987, 0.0864648...         0  \n",
       "468339   [0.30317855, 1.1647214, -3.2032266, -1.6358572...         0  \n",
       "1220897  [0.1389, 1.8154, 1.3685, 0.56896, -1.5863, 0.4...         0  \n",
       "624726   [2.1761897, 0.026422458, -0.4633268, -1.494540...         0  \n",
       "121138   [-0.052053023, 1.1380367, -1.8810619, -0.26587...         1  \n",
       "\n",
       "[116037 rows x 5 columns]"
      ]
     },
     "execution_count": 20,
     "metadata": {},
     "output_type": "execute_result"
    }
   ],
   "source": [
    "category_mapping = {\n",
    "    'General': 0,\n",
    "    'Suicide': 1,\n",
    "    'Sexual': 2,\n",
    "    'Hate': 3,\n",
    "    'Bullying': 4\n",
    "}\n",
    "\n",
    "undersampled_data_2['Category'] = undersampled_data_2['Label'].map(category_mapping)\n",
    "\n",
    "\n",
    "undersampled_data_2"
   ]
  },
  {
   "cell_type": "code",
   "execution_count": 21,
   "id": "21005dbe",
   "metadata": {},
   "outputs": [],
   "source": [
    "undersampled_data_2.to_csv('/Users/igorhufnagel/Desktop/Ironhack/LABS/Final Project/Datasets/Final_Data.csv', index=False)"
   ]
  },
  {
   "cell_type": "code",
   "execution_count": null,
   "id": "9038c378",
   "metadata": {},
   "outputs": [],
   "source": [
    "undersampled_data_2.to_csv('/Users/igorhufnagel/Desktop/Ironhack/LABS/Final Project/Datasets/Final_Data.csv', index=False)"
   ]
  },
  {
   "cell_type": "code",
   "execution_count": null,
   "id": "b45f4b58",
   "metadata": {},
   "outputs": [],
   "source": [
    "from sklearn.model_selection import train_test_split\n",
    "import numpy as np\n",
    "\n",
    "X = np.array(undersampled_data_2['Vector'].tolist())\n",
    "y = undersampled_data_2['Category']\n",
    "\n",
    "X_train, X_test, y_train, y_test = train_test_split(X, y, test_size=0.3, random_state=100)\n",
    "X, X_test, y, y_test = train_test_split(X_test, y_test, test_size=0.3, random_state=100)\n",
    "\n",
    "y_train = np.array(y_train)\n",
    "y_test = np.array(y_test)"
   ]
  },
  {
   "cell_type": "code",
   "execution_count": null,
   "id": "daae43d4",
   "metadata": {},
   "outputs": [],
   "source": [
    "len(X_test)"
   ]
  },
  {
   "cell_type": "code",
   "execution_count": null,
   "id": "7131f2c1",
   "metadata": {},
   "outputs": [],
   "source": [
    "from sklearn.linear_model import LogisticRegression\n",
    "from sklearn.model_selection import train_test_split\n",
    "from sklearn.metrics import accuracy_score\n",
    "\n",
    "model = LogisticRegression(max_iter=10000)\n",
    "model.fit(X_train, y_train)\n",
    "y_pred = model.predict(X_test)\n",
    "accuracy = accuracy_score(y_test, y_pred)\n",
    "print(\"Accuracy:\", accuracy)"
   ]
  },
  {
   "cell_type": "code",
   "execution_count": null,
   "id": "6d9c9d23",
   "metadata": {},
   "outputs": [],
   "source": [
    "from sklearn.metrics import precision_score, recall_score, f1_score\n",
    "\n",
    "# Assuming you have the true labels y_test and predicted labels y_pred\n",
    "precision = precision_score(y_test, y_pred, average='weighted')\n",
    "recall = recall_score(y_test, y_pred, average='weighted')\n",
    "f1 = f1_score(y_test, y_pred, average='weighted')\n",
    "\n",
    "print(\"Precision:\", precision)\n",
    "print(\"Recall:\", recall)\n",
    "print(\"F1-score:\", f1)"
   ]
  },
  {
   "cell_type": "code",
   "execution_count": null,
   "id": "fbf687b6",
   "metadata": {},
   "outputs": [],
   "source": [
    "from sklearn.ensemble import RandomForestClassifier\n",
    "from sklearn.metrics import accuracy_score, precision_score, recall_score, f1_score"
   ]
  },
  {
   "cell_type": "code",
   "execution_count": null,
   "id": "a25e73dc",
   "metadata": {},
   "outputs": [],
   "source": [
    "rf_model = RandomForestClassifier()"
   ]
  },
  {
   "cell_type": "code",
   "execution_count": null,
   "id": "a9825190",
   "metadata": {},
   "outputs": [],
   "source": [
    "rf_model.fit(X_train, y_train)"
   ]
  },
  {
   "cell_type": "code",
   "execution_count": null,
   "id": "e1d3f01a",
   "metadata": {},
   "outputs": [],
   "source": [
    "y_pred = rf_model.predict(X_test)"
   ]
  },
  {
   "cell_type": "code",
   "execution_count": null,
   "id": "d86cf4bc",
   "metadata": {},
   "outputs": [],
   "source": [
    "accuracy = accuracy_score(y_test, y_pred)\n",
    "\n",
    "precision = precision_score(y_test, y_pred, average='weighted')\n",
    "\n",
    "recall = recall_score(y_test, y_pred, average='weighted')\n",
    "\n",
    "f1 = f1_score(y_test, y_pred, average='weighted')\n",
    "\n",
    "print(\"Accuracy:\", accuracy)\n",
    "print(\"Precision:\", precision)\n",
    "print(\"Recall:\", recall)\n",
    "print(\"F1-score:\", f1)"
   ]
  },
  {
   "cell_type": "code",
   "execution_count": null,
   "id": "2468d5b5",
   "metadata": {},
   "outputs": [],
   "source": [
    "from sklearn.svm import SVC\n",
    "from sklearn.metrics import accuracy_score, precision_score, recall_score, f1_score"
   ]
  },
  {
   "cell_type": "code",
   "execution_count": null,
   "id": "e8a02e90",
   "metadata": {},
   "outputs": [],
   "source": [
    "svm_model = SVC()\n",
    "svm_model.fit(X_train, y_train)"
   ]
  },
  {
   "cell_type": "code",
   "execution_count": null,
   "id": "9d1aed94",
   "metadata": {},
   "outputs": [],
   "source": [
    "y_pred = svm_model.predict(X_test)"
   ]
  },
  {
   "cell_type": "code",
   "execution_count": null,
   "id": "b7fee106",
   "metadata": {},
   "outputs": [],
   "source": [
    "# SAVE A MODEL IN A PICKLE FILE\n",
    "\n",
    "import pickle\n",
    "\n",
    "\n",
    "svm_model = 'svm_model.pkl'\n",
    "with open(svm_model, 'wb') as file:\n",
    "    pickle.dump(model, file)"
   ]
  },
  {
   "cell_type": "code",
   "execution_count": null,
   "id": "1f6db260",
   "metadata": {},
   "outputs": [],
   "source": [
    "accuracy = accuracy_score(y_test, y_pred)\n",
    "\n",
    "precision = precision_score(y_test, y_pred, average='weighted')\n",
    "\n",
    "recall = recall_score(y_test, y_pred, average='weighted')\n",
    "\n",
    "f1 = f1_score(y_test, y_pred, average='weighted')\n",
    "\n",
    "print(\"Accuracy:\", accuracy)\n",
    "print(\"Precision:\", precision)\n",
    "print(\"Recall:\", recall)\n",
    "print(\"F1-score:\", f1)"
   ]
  },
  {
   "cell_type": "code",
   "execution_count": null,
   "id": "96077d62",
   "metadata": {},
   "outputs": [],
   "source": [
    "from sklearn.metrics import confusion_matrix\n",
    "\n",
    "cm = confusion_matrix(y_test, y_pred)\n",
    "\n",
    "cm"
   ]
  },
  {
   "cell_type": "code",
   "execution_count": null,
   "id": "ad192f07",
   "metadata": {},
   "outputs": [],
   "source": [
    "y_test"
   ]
  },
  {
   "cell_type": "code",
   "execution_count": null,
   "id": "c4c1f34a",
   "metadata": {},
   "outputs": [],
   "source": [
    "y_pred"
   ]
  },
  {
   "cell_type": "code",
   "execution_count": null,
   "id": "f5b3ebab",
   "metadata": {},
   "outputs": [],
   "source": [
    "from sklearn.metrics import confusion_matrix, ConfusionMatrixDisplay\n",
    "\n",
    "cm = confusion_matrix(y_test, y_pred)\n",
    "disp = ConfusionMatrixDisplay(confusion_matrix=cm)\n",
    "disp.plot()\n",
    "\n",
    "plt.show()"
   ]
  },
  {
   "cell_type": "code",
   "execution_count": null,
   "id": "e96c258b",
   "metadata": {},
   "outputs": [],
   "source": [
    "X_test"
   ]
  },
  {
   "cell_type": "code",
   "execution_count": null,
   "id": "3a294ad2",
   "metadata": {},
   "outputs": [],
   "source": [
    "y_pred"
   ]
  },
  {
   "cell_type": "code",
   "execution_count": null,
   "id": "ad24fc1b",
   "metadata": {},
   "outputs": [],
   "source": [
    "# SAVE A MODEL IN A PICKLE FILE\n",
    "\n",
    "import pickle\n",
    "\n",
    "# Train your model\n",
    "model = ...  # Your trained model\n",
    "\n",
    "# Save the model to a pickle file\n",
    "filename = 'model.pkl'\n",
    "with open(filename, 'wb') as file:\n",
    "    pickle.dump(model, file)"
   ]
  },
  {
   "cell_type": "code",
   "execution_count": null,
   "id": "961f04ea",
   "metadata": {},
   "outputs": [],
   "source": [
    "pip install xgboost"
   ]
  },
  {
   "cell_type": "code",
   "execution_count": null,
   "id": "8a95b8e9",
   "metadata": {},
   "outputs": [],
   "source": [
    "import xgboost as xgb\n",
    "\n",
    "dtrain = xgb.DMatrix(X_train, label=y_train)\n",
    "dtest = xgb.DMatrix(X_test, label=y_test)"
   ]
  },
  {
   "cell_type": "code",
   "execution_count": null,
   "id": "7b38df59",
   "metadata": {},
   "outputs": [],
   "source": [
    "params = {\n",
    "    'objective': 'multi:softmax',  # For multi-class classification\n",
    "    'num_class': 5,  # Number of classes in your dataset\n",
    "    # Add other parameters as per your requirements\n",
    "}"
   ]
  },
  {
   "cell_type": "code",
   "execution_count": null,
   "id": "2adf50d6",
   "metadata": {},
   "outputs": [],
   "source": [
    "dtest_reshaped = np.reshape(dtest, (1, -1))"
   ]
  },
  {
   "cell_type": "code",
   "execution_count": null,
   "id": "46c94fff",
   "metadata": {},
   "outputs": [],
   "source": [
    "model_XG = xgb.train(params, dtrain)"
   ]
  },
  {
   "cell_type": "code",
   "execution_count": null,
   "id": "52796650",
   "metadata": {},
   "outputs": [],
   "source": [
    "y_pred = model_XG.predict(dtest)"
   ]
  },
  {
   "cell_type": "code",
   "execution_count": null,
   "id": "90450816",
   "metadata": {},
   "outputs": [],
   "source": [
    "accuracy = accuracy_score(y_test, y_pred)\n",
    "\n",
    "precision = precision_score(y_test, y_pred, average='weighted')\n",
    "\n",
    "recall = recall_score(y_test, y_pred, average='weighted')\n",
    "\n",
    "f1 = f1_score(y_test, y_pred, average='weighted')\n",
    "\n",
    "print(\"Accuracy:\", accuracy)\n",
    "print(\"Precision:\", precision)\n",
    "print(\"Recall:\", recall)\n",
    "print(\"F1-score:\", f1)"
   ]
  }
 ],
 "metadata": {
  "kernelspec": {
   "display_name": "Python 3 (ipykernel)",
   "language": "python",
   "name": "python3"
  },
  "language_info": {
   "codemirror_mode": {
    "name": "ipython",
    "version": 3
   },
   "file_extension": ".py",
   "mimetype": "text/x-python",
   "name": "python",
   "nbconvert_exporter": "python",
   "pygments_lexer": "ipython3",
   "version": "3.9.13"
  }
 },
 "nbformat": 4,
 "nbformat_minor": 5
}
